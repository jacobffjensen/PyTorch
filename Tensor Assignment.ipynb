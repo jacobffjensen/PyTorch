{
 "cells": [
  {
   "cell_type": "markdown",
   "metadata": {},
   "source": [
    "# Tensor Assingment\n",
    "\n",
    "This is the PyTorch tensor assingment for the leaky.ai Introduction to Deep Learning with PyTorch course (www.leaky.ai).  \n",
    "\n",
    "To execute this assingment head over to Google Colab and load the following workbook.\n",
    "\n",
    "DIRECTIONS\n",
    "1.  Load notebook into colab.research.google.com\n",
    "2.  Execute the notebook after completing each cell"
   ]
  },
  {
   "cell_type": "code",
   "execution_count": 3,
   "metadata": {},
   "outputs": [
    {
     "data": {
      "text/plain": [
       "'1.7.1'"
      ]
     },
     "execution_count": 3,
     "metadata": {},
     "output_type": "execute_result"
    }
   ],
   "source": [
    "# Import PyTorch and check the version\n",
    "import torch\n",
    "torch.__version__"
   ]
  },
  {
   "cell_type": "markdown",
   "metadata": {},
   "source": [
    "Correct Answer:  \n",
    "```\n",
    "'1.8.1'\n",
    "```"
   ]
  },
  {
   "cell_type": "markdown",
   "metadata": {},
   "source": [
    "# Creating Tensors\n",
    "Lets create a few tensors that we will use for the remaining part of the exercise"
   ]
  },
  {
   "cell_type": "code",
   "execution_count": 18,
   "metadata": {},
   "outputs": [],
   "source": [
    "# Create 2 PyTorch tensors with the following content\n",
    "# Tensor a should contain [1.0,2.0,3.0,4.0,5.0,6.0,7.0,8.0,9.0,10.0]\n",
    "# Tensor b should contain [[1,2,3,4,5],[6,7,8,9,10],[11,12,13,14,15],[16,17,18,19,20]]\n",
    "\n",
    "# ---------- FILL IN BELOW -----------\n",
    "a = torch.tensor([1.0,2.0,3.0,4.0,5.0,6.0,7.0,8.0,9.0,10.0])\n",
    "b = torch.tensor([[1,2,3,4,5],[6,7,8,9,10],[11,12,13,14,15],[16,17,18,19,20]])"
   ]
  },
  {
   "cell_type": "code",
   "execution_count": 19,
   "metadata": {},
   "outputs": [
    {
     "name": "stdout",
     "output_type": "stream",
     "text": [
      "torch.Size([10]) torch.FloatTensor\n",
      "torch.Size([4, 5]) torch.LongTensor\n"
     ]
    }
   ],
   "source": [
    "# Print out the size and type of A and B\n",
    "print (a.size(),a.type())\n",
    "print (b.size(),b.type())"
   ]
  },
  {
   "cell_type": "markdown",
   "metadata": {},
   "source": [
    "Correct Answer:\n",
    "```\n",
    "torch.Size([10]) torch.FloatTensor\n",
    "torch.Size([4, 5]) torch.LongTensor\n",
    "```"
   ]
  },
  {
   "cell_type": "code",
   "execution_count": 21,
   "metadata": {},
   "outputs": [
    {
     "name": "stdout",
     "output_type": "stream",
     "text": [
      "10.0\n",
      "20\n"
     ]
    }
   ],
   "source": [
    "# Print out the last item in tensor A and B as a scalar (not tensor)\n",
    "print(a[-1].item())\n",
    "print(b[-1,-1].item())\n"
   ]
  },
  {
   "cell_type": "markdown",
   "metadata": {},
   "source": [
    "Correct Answer:\n",
    "```\n",
    "10.0\n",
    "20\n",
    "```"
   ]
  }
 ],
 "metadata": {
  "kernelspec": {
   "display_name": "Python 3",
   "language": "python",
   "name": "python3"
  },
  "language_info": {
   "codemirror_mode": {
    "name": "ipython",
    "version": 3
   },
   "file_extension": ".py",
   "mimetype": "text/x-python",
   "name": "python",
   "nbconvert_exporter": "python",
   "pygments_lexer": "ipython3",
   "version": "3.8.2"
  }
 },
 "nbformat": 4,
 "nbformat_minor": 4
}
